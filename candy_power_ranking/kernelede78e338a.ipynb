{
 "cells": [
  {
   "cell_type": "markdown",
   "metadata": {
    "_uuid": "fb20452bb4eb11741cd22c93e0ba62d09344ee99"
   },
   "source": [
    "![America's Favorite Halloween Candy](http://www.littlelakecounty.com/wp-content/uploads/2018/10/HalloweenEventsv2.jpg)\n",
    "\n",
    "## ***Context***\n",
    "What’s the best (or at least the most popular) Halloween candy? That was the question this dataset was collected to answer. Data was collected by creating a website where participants were shown [presenting two fun-sized candies and asked to click on the one they would prefer to receive](http://walthickey.com/2017/10/18/whats-the-best-halloween-candy/). In total, more than 269 thousand votes were collected from 8,371 different IP addresses.\n",
    "\n",
    "## ***Content***\n",
    "`candy-data.csv` includes attributes for each candy along with its ranking. \n",
    "\n",
    "For **binary variables**, <u>1 means yes, 0 means no</u>. The data contains the following fields:\n",
    "\n",
    "\n",
    "| Feature   \t| Description                    \t|   \t\n",
    "|-----------\t|--------------------------------\t|\n",
    "| chocolate \t| Does it contain chocolate?     \t|\n",
    "| fruity    \t| Is it fruit flavored?          \t|\n",
    "| caramel   \t| Is there caramel in the candy? \t|\n",
    "|peanutalmondy:|Does it contain peanuts, peanut butter or almonds?|\n",
    "|nougat| Does it contain nougat?|\n",
    "|crispedricewafer| Does it contain crisped rice, wafers, or a cookie component?|\n",
    "|hard| Is it a hard candy?|\n",
    "|bar| Is it a candy bar?|\n",
    "|pluribus| Is it one of many candies in a bag or box?|\n",
    "|sugarpercent| The percentile of sugar it falls under within the data set.|\n",
    "|pricepercent| The unit price percentile compared to the rest of the set.|\n",
    "|winpercent| The overall win percentage according to 269,000 matchups.|\n",
    "\n",
    "## ***ToDo:***<br><br>\n",
    "\n",
    "<input type=\"checkbox\"  checked>  Which qualities are associated with higher rankings?</input><br>\n",
    "<input type=\"checkbox\"  checked> What’s the most popular candy? Least popular?</input><br>\n",
    "<input type=\"checkbox\" > Can you recreate the 538 analysis of this dataset?</input><br>\n",
    "<input type=\"checkbox\"  checked> Predictive Modeling</input><br>\n"
   ]
  },
  {
   "cell_type": "code",
   "execution_count": 1,
   "metadata": {
    "_cell_guid": "b1076dfc-b9ad-4769-8c92-a6c4dae69d19",
    "_uuid": "8f2839f25d086af736a60e9eeb907d3b93b6e0e5"
   },
   "outputs": [
    {
     "ename": "ModuleNotFoundError",
     "evalue": "No module named 'pandas_summary'",
     "output_type": "error",
     "traceback": [
      "\u001b[0;31m-------------------------\u001b[0m",
      "\u001b[0;31mModuleNotFoundError\u001b[0mTraceback (most recent call last)",
      "\u001b[0;32m<ipython-input-1-2a29d749be20>\u001b[0m in \u001b[0;36m<module>\u001b[0;34m()\u001b[0m\n\u001b[1;32m      5\u001b[0m \u001b[0;34m\u001b[0m\u001b[0m\n\u001b[1;32m      6\u001b[0m \u001b[0;32mimport\u001b[0m \u001b[0mpandas\u001b[0m \u001b[0;32mas\u001b[0m \u001b[0mpd\u001b[0m\u001b[0;34m\u001b[0m\u001b[0m\n\u001b[0;32m----> 7\u001b[0;31m \u001b[0;32mfrom\u001b[0m \u001b[0mpandas_summary\u001b[0m \u001b[0;32mimport\u001b[0m \u001b[0mDataFrameSummary\u001b[0m\u001b[0;34m\u001b[0m\u001b[0m\n\u001b[0m\u001b[1;32m      8\u001b[0m \u001b[0;32mfrom\u001b[0m \u001b[0mIPython\u001b[0m\u001b[0;34m.\u001b[0m\u001b[0mdisplay\u001b[0m \u001b[0;32mimport\u001b[0m \u001b[0mdisplay\u001b[0m\u001b[0;34m\u001b[0m\u001b[0m\n\u001b[1;32m      9\u001b[0m \u001b[0;32mimport\u001b[0m \u001b[0mmatplotlib\u001b[0m\u001b[0;34m.\u001b[0m\u001b[0mpyplot\u001b[0m \u001b[0;32mas\u001b[0m \u001b[0mplt\u001b[0m\u001b[0;34m\u001b[0m\u001b[0m\n",
      "\u001b[0;31mModuleNotFoundError\u001b[0m: No module named 'pandas_summary'"
     ]
    }
   ],
   "source": [
    "%load_ext autoreload\n",
    "%autoreload 2\n",
    "\n",
    "%matplotlib inline\n",
    "\n",
    "import pandas as pd\n",
    "from pandas_summary import DataFrameSummary\n",
    "from IPython.display import display\n",
    "import matplotlib.pyplot as plt\n",
    "\n",
    "from fastai.imports import *\n",
    "from fastai.structured import *\n",
    "\n",
    "from scipy.stats import spearmanr\n",
    "\n",
    "def display_all(df):\n",
    "    with pd.option_context(\"display.max_rows\", 1000, \"display.max_columns\", 1000): \n",
    "        display(df)"
   ]
  },
  {
   "cell_type": "code",
   "execution_count": 2,
   "metadata": {
    "_cell_guid": "79c7e3d0-c299-4dcb-8224-4455121ee9b0",
    "_uuid": "d629ff2d2480ee46fbb7e2d37f6b5fab8052498a"
   },
   "outputs": [
    {
     "ename": "FileNotFoundError",
     "evalue": "File b'../input/candy-data.csv' does not exist",
     "output_type": "error",
     "traceback": [
      "\u001b[0;31m-------------------------\u001b[0m",
      "\u001b[0;31mFileNotFoundError\u001b[0mTraceback (most recent call last)",
      "\u001b[0;32m<ipython-input-2-2887f320733c>\u001b[0m in \u001b[0;36m<module>\u001b[0;34m()\u001b[0m\n\u001b[0;32m----> 1\u001b[0;31m \u001b[0mdata\u001b[0m \u001b[0;34m=\u001b[0m \u001b[0mpd\u001b[0m\u001b[0;34m.\u001b[0m\u001b[0mread_csv\u001b[0m\u001b[0;34m(\u001b[0m\u001b[0;34m'../input/candy-data.csv'\u001b[0m\u001b[0;34m)\u001b[0m\u001b[0;34m\u001b[0m\u001b[0m\n\u001b[0m\u001b[1;32m      2\u001b[0m \u001b[0mdisplay\u001b[0m\u001b[0;34m(\u001b[0m\u001b[0mdata\u001b[0m\u001b[0;34m.\u001b[0m\u001b[0mT\u001b[0m\u001b[0;34m)\u001b[0m\u001b[0;34m\u001b[0m\u001b[0m\n",
      "\u001b[0;32m~/anaconda3/lib/python3.6/site-packages/pandas/io/parsers.py\u001b[0m in \u001b[0;36mparser_f\u001b[0;34m(filepath_or_buffer, sep, delimiter, header, names, index_col, usecols, squeeze, prefix, mangle_dupe_cols, dtype, engine, converters, true_values, false_values, skipinitialspace, skiprows, nrows, na_values, keep_default_na, na_filter, verbose, skip_blank_lines, parse_dates, infer_datetime_format, keep_date_col, date_parser, dayfirst, iterator, chunksize, compression, thousands, decimal, lineterminator, quotechar, quoting, escapechar, comment, encoding, dialect, tupleize_cols, error_bad_lines, warn_bad_lines, skipfooter, doublequote, delim_whitespace, low_memory, memory_map, float_precision)\u001b[0m\n\u001b[1;32m    676\u001b[0m                     skip_blank_lines=skip_blank_lines)\n\u001b[1;32m    677\u001b[0m \u001b[0;34m\u001b[0m\u001b[0m\n\u001b[0;32m--> 678\u001b[0;31m         \u001b[0;32mreturn\u001b[0m \u001b[0m_read\u001b[0m\u001b[0;34m(\u001b[0m\u001b[0mfilepath_or_buffer\u001b[0m\u001b[0;34m,\u001b[0m \u001b[0mkwds\u001b[0m\u001b[0;34m)\u001b[0m\u001b[0;34m\u001b[0m\u001b[0m\n\u001b[0m\u001b[1;32m    679\u001b[0m \u001b[0;34m\u001b[0m\u001b[0m\n\u001b[1;32m    680\u001b[0m     \u001b[0mparser_f\u001b[0m\u001b[0;34m.\u001b[0m\u001b[0m__name__\u001b[0m \u001b[0;34m=\u001b[0m \u001b[0mname\u001b[0m\u001b[0;34m\u001b[0m\u001b[0m\n",
      "\u001b[0;32m~/anaconda3/lib/python3.6/site-packages/pandas/io/parsers.py\u001b[0m in \u001b[0;36m_read\u001b[0;34m(filepath_or_buffer, kwds)\u001b[0m\n\u001b[1;32m    438\u001b[0m \u001b[0;34m\u001b[0m\u001b[0m\n\u001b[1;32m    439\u001b[0m     \u001b[0;31m# Create the parser.\u001b[0m\u001b[0;34m\u001b[0m\u001b[0;34m\u001b[0m\u001b[0m\n\u001b[0;32m--> 440\u001b[0;31m     \u001b[0mparser\u001b[0m \u001b[0;34m=\u001b[0m \u001b[0mTextFileReader\u001b[0m\u001b[0;34m(\u001b[0m\u001b[0mfilepath_or_buffer\u001b[0m\u001b[0;34m,\u001b[0m \u001b[0;34m**\u001b[0m\u001b[0mkwds\u001b[0m\u001b[0;34m)\u001b[0m\u001b[0;34m\u001b[0m\u001b[0m\n\u001b[0m\u001b[1;32m    441\u001b[0m \u001b[0;34m\u001b[0m\u001b[0m\n\u001b[1;32m    442\u001b[0m     \u001b[0;32mif\u001b[0m \u001b[0mchunksize\u001b[0m \u001b[0;32mor\u001b[0m \u001b[0miterator\u001b[0m\u001b[0;34m:\u001b[0m\u001b[0;34m\u001b[0m\u001b[0m\n",
      "\u001b[0;32m~/anaconda3/lib/python3.6/site-packages/pandas/io/parsers.py\u001b[0m in \u001b[0;36m__init__\u001b[0;34m(self, f, engine, **kwds)\u001b[0m\n\u001b[1;32m    785\u001b[0m             \u001b[0mself\u001b[0m\u001b[0;34m.\u001b[0m\u001b[0moptions\u001b[0m\u001b[0;34m[\u001b[0m\u001b[0;34m'has_index_names'\u001b[0m\u001b[0;34m]\u001b[0m \u001b[0;34m=\u001b[0m \u001b[0mkwds\u001b[0m\u001b[0;34m[\u001b[0m\u001b[0;34m'has_index_names'\u001b[0m\u001b[0;34m]\u001b[0m\u001b[0;34m\u001b[0m\u001b[0m\n\u001b[1;32m    786\u001b[0m \u001b[0;34m\u001b[0m\u001b[0m\n\u001b[0;32m--> 787\u001b[0;31m         \u001b[0mself\u001b[0m\u001b[0;34m.\u001b[0m\u001b[0m_make_engine\u001b[0m\u001b[0;34m(\u001b[0m\u001b[0mself\u001b[0m\u001b[0;34m.\u001b[0m\u001b[0mengine\u001b[0m\u001b[0;34m)\u001b[0m\u001b[0;34m\u001b[0m\u001b[0m\n\u001b[0m\u001b[1;32m    788\u001b[0m \u001b[0;34m\u001b[0m\u001b[0m\n\u001b[1;32m    789\u001b[0m     \u001b[0;32mdef\u001b[0m \u001b[0mclose\u001b[0m\u001b[0;34m(\u001b[0m\u001b[0mself\u001b[0m\u001b[0;34m)\u001b[0m\u001b[0;34m:\u001b[0m\u001b[0;34m\u001b[0m\u001b[0m\n",
      "\u001b[0;32m~/anaconda3/lib/python3.6/site-packages/pandas/io/parsers.py\u001b[0m in \u001b[0;36m_make_engine\u001b[0;34m(self, engine)\u001b[0m\n\u001b[1;32m   1012\u001b[0m     \u001b[0;32mdef\u001b[0m \u001b[0m_make_engine\u001b[0m\u001b[0;34m(\u001b[0m\u001b[0mself\u001b[0m\u001b[0;34m,\u001b[0m \u001b[0mengine\u001b[0m\u001b[0;34m=\u001b[0m\u001b[0;34m'c'\u001b[0m\u001b[0;34m)\u001b[0m\u001b[0;34m:\u001b[0m\u001b[0;34m\u001b[0m\u001b[0m\n\u001b[1;32m   1013\u001b[0m         \u001b[0;32mif\u001b[0m \u001b[0mengine\u001b[0m \u001b[0;34m==\u001b[0m \u001b[0;34m'c'\u001b[0m\u001b[0;34m:\u001b[0m\u001b[0;34m\u001b[0m\u001b[0m\n\u001b[0;32m-> 1014\u001b[0;31m             \u001b[0mself\u001b[0m\u001b[0;34m.\u001b[0m\u001b[0m_engine\u001b[0m \u001b[0;34m=\u001b[0m \u001b[0mCParserWrapper\u001b[0m\u001b[0;34m(\u001b[0m\u001b[0mself\u001b[0m\u001b[0;34m.\u001b[0m\u001b[0mf\u001b[0m\u001b[0;34m,\u001b[0m \u001b[0;34m**\u001b[0m\u001b[0mself\u001b[0m\u001b[0;34m.\u001b[0m\u001b[0moptions\u001b[0m\u001b[0;34m)\u001b[0m\u001b[0;34m\u001b[0m\u001b[0m\n\u001b[0m\u001b[1;32m   1015\u001b[0m         \u001b[0;32melse\u001b[0m\u001b[0;34m:\u001b[0m\u001b[0;34m\u001b[0m\u001b[0m\n\u001b[1;32m   1016\u001b[0m             \u001b[0;32mif\u001b[0m \u001b[0mengine\u001b[0m \u001b[0;34m==\u001b[0m \u001b[0;34m'python'\u001b[0m\u001b[0;34m:\u001b[0m\u001b[0;34m\u001b[0m\u001b[0m\n",
      "\u001b[0;32m~/anaconda3/lib/python3.6/site-packages/pandas/io/parsers.py\u001b[0m in \u001b[0;36m__init__\u001b[0;34m(self, src, **kwds)\u001b[0m\n\u001b[1;32m   1706\u001b[0m         \u001b[0mkwds\u001b[0m\u001b[0;34m[\u001b[0m\u001b[0;34m'usecols'\u001b[0m\u001b[0;34m]\u001b[0m \u001b[0;34m=\u001b[0m \u001b[0mself\u001b[0m\u001b[0;34m.\u001b[0m\u001b[0musecols\u001b[0m\u001b[0;34m\u001b[0m\u001b[0m\n\u001b[1;32m   1707\u001b[0m \u001b[0;34m\u001b[0m\u001b[0m\n\u001b[0;32m-> 1708\u001b[0;31m         \u001b[0mself\u001b[0m\u001b[0;34m.\u001b[0m\u001b[0m_reader\u001b[0m \u001b[0;34m=\u001b[0m \u001b[0mparsers\u001b[0m\u001b[0;34m.\u001b[0m\u001b[0mTextReader\u001b[0m\u001b[0;34m(\u001b[0m\u001b[0msrc\u001b[0m\u001b[0;34m,\u001b[0m \u001b[0;34m**\u001b[0m\u001b[0mkwds\u001b[0m\u001b[0;34m)\u001b[0m\u001b[0;34m\u001b[0m\u001b[0m\n\u001b[0m\u001b[1;32m   1709\u001b[0m \u001b[0;34m\u001b[0m\u001b[0m\n\u001b[1;32m   1710\u001b[0m         \u001b[0mpassed_names\u001b[0m \u001b[0;34m=\u001b[0m \u001b[0mself\u001b[0m\u001b[0;34m.\u001b[0m\u001b[0mnames\u001b[0m \u001b[0;32mis\u001b[0m \u001b[0;32mNone\u001b[0m\u001b[0;34m\u001b[0m\u001b[0m\n",
      "\u001b[0;32mpandas/_libs/parsers.pyx\u001b[0m in \u001b[0;36mpandas._libs.parsers.TextReader.__cinit__\u001b[0;34m()\u001b[0m\n",
      "\u001b[0;32mpandas/_libs/parsers.pyx\u001b[0m in \u001b[0;36mpandas._libs.parsers.TextReader._setup_parser_source\u001b[0;34m()\u001b[0m\n",
      "\u001b[0;31mFileNotFoundError\u001b[0m: File b'../input/candy-data.csv' does not exist"
     ]
    }
   ],
   "source": [
    "data = pd.read_csv('../input/candy-data.csv')\n",
    "display(data.T)"
   ]
  },
  {
   "cell_type": "code",
   "execution_count": null,
   "metadata": {
    "_uuid": "bed3e71cf61f593f7765239788c71d9eb21119bc"
   },
   "outputs": [],
   "source": [
    "display_all(data.describe(include='all').T)"
   ]
  },
  {
   "cell_type": "code",
   "execution_count": null,
   "metadata": {
    "_uuid": "be62a27c5cd12f88a3e47787352127bf5ad4903f"
   },
   "outputs": [],
   "source": [
    "data.sugarpercent = round(data.sugarpercent,3)\n",
    "data.pricepercent = round(data.pricepercent,3)\n",
    "data.winpercent = round(data.winpercent,3)"
   ]
  },
  {
   "cell_type": "code",
   "execution_count": null,
   "metadata": {
    "_uuid": "936fc568798edb147ab064a9756e0b2797709060"
   },
   "outputs": [],
   "source": [
    "data.info()"
   ]
  },
  {
   "cell_type": "code",
   "execution_count": null,
   "metadata": {
    "_uuid": "5eeebdbe7ce98bcdd503b01e8e2919e901e34037"
   },
   "outputs": [],
   "source": [
    "plt.figure(figsize=(20,10))\n",
    "sns.heatmap(data.corr().abs(),annot=True)"
   ]
  },
  {
   "cell_type": "code",
   "execution_count": null,
   "metadata": {
    "_uuid": "e5443fb7ba449e4128ab0dde9e5010fe62c0f00f",
    "scrolled": true
   },
   "outputs": [],
   "source": [
    "def corrank(X):\n",
    "    import itertools\n",
    "    df = pd.DataFrame([[i,j,X.corr().abs().loc[i,j]] for i,j in list(itertools.combinations(X.corr().abs(), 2))],columns=['Feature1','Feature2','corr'])    \n",
    "    return df.sort_values(by='corr',ascending=False).reset_index(drop=True)\n",
    "\n",
    "# prints a descending list of correlation pair (Max on top)\n",
    "display_all(corrank(data))"
   ]
  },
  {
   "cell_type": "code",
   "execution_count": null,
   "metadata": {
    "_uuid": "43554d5943621388044e67a2f16daa774daf2e4a"
   },
   "outputs": [],
   "source": [
    "data.isnull().sum()/len(data)"
   ]
  },
  {
   "cell_type": "code",
   "execution_count": null,
   "metadata": {
    "_uuid": "175af32d593b74bcba4906215173a083096c1ff1"
   },
   "outputs": [],
   "source": [
    "winners = data[data.winpercent>data.winpercent.quantile(.6)]"
   ]
  },
  {
   "cell_type": "code",
   "execution_count": 3,
   "metadata": {
    "_uuid": "f2d7f70777c5def6aa9e0dc19dc93e74c10d4673",
    "scrolled": true
   },
   "outputs": [
    {
     "ename": "ModuleNotFoundError",
     "evalue": "No module named 'mlxtend'",
     "output_type": "error",
     "traceback": [
      "\u001b[0;31m-------------------------------\u001b[0m",
      "\u001b[0;31mModuleNotFoundError\u001b[0mTraceback (most recent call last)",
      "\u001b[0;32m<ipython-input-3-a6fe6c1d6b41>\u001b[0m in \u001b[0;36m<module>\u001b[0;34m()\u001b[0m\n\u001b[0;32m----> 1\u001b[0;31m \u001b[0;32mfrom\u001b[0m \u001b[0mmlxtend\u001b[0m\u001b[0;34m.\u001b[0m\u001b[0mfrequent_patterns\u001b[0m \u001b[0;32mimport\u001b[0m \u001b[0mapriori\u001b[0m\u001b[0;34m\u001b[0m\u001b[0m\n\u001b[0m\u001b[1;32m      2\u001b[0m \u001b[0mdf\u001b[0m \u001b[0;34m=\u001b[0m  \u001b[0mwinners\u001b[0m\u001b[0;34m[\u001b[0m\u001b[0mdata\u001b[0m\u001b[0;34m.\u001b[0m\u001b[0mcolumns\u001b[0m\u001b[0;34m[\u001b[0m\u001b[0;36m1\u001b[0m\u001b[0;34m:\u001b[0m\u001b[0;34m-\u001b[0m\u001b[0;36m3\u001b[0m\u001b[0;34m]\u001b[0m\u001b[0;34m]\u001b[0m\u001b[0;34m\u001b[0m\u001b[0m\n\u001b[1;32m      3\u001b[0m \u001b[0massociation\u001b[0m \u001b[0;34m=\u001b[0m \u001b[0mapriori\u001b[0m\u001b[0;34m(\u001b[0m\u001b[0mdf\u001b[0m\u001b[0;34m,\u001b[0m \u001b[0mmin_support\u001b[0m\u001b[0;34m=\u001b[0m\u001b[0;36m0.3\u001b[0m\u001b[0;34m,\u001b[0m\u001b[0muse_colnames\u001b[0m\u001b[0;34m=\u001b[0m\u001b[0;32mTrue\u001b[0m\u001b[0;34m)\u001b[0m\u001b[0;34m.\u001b[0m\u001b[0msort_values\u001b[0m\u001b[0;34m(\u001b[0m\u001b[0mby\u001b[0m\u001b[0;34m=\u001b[0m\u001b[0;34m'support'\u001b[0m\u001b[0;34m)\u001b[0m\u001b[0;34m\u001b[0m\u001b[0m\n\u001b[1;32m      4\u001b[0m \u001b[0;34m\u001b[0m\u001b[0m\n\u001b[1;32m      5\u001b[0m \u001b[0;34m\u001b[0m\u001b[0m\n",
      "\u001b[0;31mModuleNotFoundError\u001b[0m: No module named 'mlxtend'"
     ]
    }
   ],
   "source": [
    "from mlxtend.frequent_patterns import apriori\n",
    "df =  winners[data.columns[1:-3]]\n",
    "association = apriori(df, min_support=0.3,use_colnames=True).sort_values(by='support')\n",
    "\n",
    "\n",
    "association.plot(kind='barh',x='itemsets',y='support',title=f'Most Frequently Used Composition',sort_columns=True,figsize = (10,5),legend=False)"
   ]
  },
  {
   "cell_type": "markdown",
   "metadata": {
    "_uuid": "b8cacf5cb49f2b994674c1a8b903c9f27ef805a9"
   },
   "source": [
    "## Univariate Analysis:-"
   ]
  },
  {
   "cell_type": "code",
   "execution_count": null,
   "metadata": {
    "_uuid": "4502a4844ded5aea41c00f781c8facc332e14aa8"
   },
   "outputs": [],
   "source": [
    "sns.boxplot(x=\"chocolate\", y=\"winpercent\", data=winners).set_title('Relation of Chocolate and Win Percent');"
   ]
  },
  {
   "cell_type": "markdown",
   "metadata": {
    "_uuid": "94a59f53cb40881dc30d8d363a7143f2cf7db8c0"
   },
   "source": [
    "### Inference:-\n",
    "From the above plot we can say that more than 60% of the population likes Chocolate so it might be important parameter. "
   ]
  },
  {
   "cell_type": "code",
   "execution_count": null,
   "metadata": {
    "_uuid": "b5f1d525e56427eca5cd6e60ef799353b2a50fe9"
   },
   "outputs": [],
   "source": [
    "sns.boxplot(x=\"fruity\", y=\"winpercent\", data=winners).set_title('Relation of Fruity and Win Percent');"
   ]
  },
  {
   "cell_type": "markdown",
   "metadata": {
    "_uuid": "ec26aba04fb44ac0e4b4e8a07cdcc6c3132081ed"
   },
   "source": [
    "### Inference:-\n",
    "From the above plot we can say that more than 60% of the population likes Fruity so it might be important parameter. "
   ]
  },
  {
   "cell_type": "code",
   "execution_count": null,
   "metadata": {
    "_uuid": "c06e328960669ef32ce1337e84e2673cdfacb914",
    "scrolled": true
   },
   "outputs": [],
   "source": [
    "sns.boxplot(x=\"caramel\", y=\"winpercent\", data=winners).set_title('Relation of Caramel and Win Percent');"
   ]
  },
  {
   "cell_type": "markdown",
   "metadata": {
    "_uuid": "6519fc6a5135af44366bc3fb6bbee23882e43285"
   },
   "source": [
    "### Inference:-\n",
    "From the above plot we can say that more than 60% of the population likes Caramel so it might be important parameter. "
   ]
  },
  {
   "cell_type": "code",
   "execution_count": null,
   "metadata": {
    "_uuid": "648aac34be2b66b19605dd472a6e6fa7c52f59a0",
    "scrolled": true
   },
   "outputs": [],
   "source": [
    "sns.boxplot(x=\"peanutyalmondy\", y=\"winpercent\", data=winners).set_title('Relation of Peanut/Almond and Win Percent');"
   ]
  },
  {
   "cell_type": "markdown",
   "metadata": {
    "_uuid": "c106e17ceb9ce233085205e9c64dfdfaaf7c4b09"
   },
   "source": [
    "### Inference:-\n",
    "From the above plot we can say that more than 60% of the population likes Peanut/Almond so it might be important parameter. "
   ]
  },
  {
   "cell_type": "code",
   "execution_count": null,
   "metadata": {
    "_uuid": "cb84e0e225b5e80b40d8b2e2963482213e27d105",
    "scrolled": true
   },
   "outputs": [],
   "source": [
    "sns.boxplot(x=\"nougat\", y=\"winpercent\", data=winners).set_title('Relation of Nougat and Win Percent');"
   ]
  },
  {
   "cell_type": "markdown",
   "metadata": {
    "_uuid": "590544584265ffcfbf2bd73e3b28b93f5b98f50e"
   },
   "source": [
    "### Inference:-\n",
    "From the above plot we can say that more than 60% of the population likes Nougat  so it might be important parameter. "
   ]
  },
  {
   "cell_type": "code",
   "execution_count": null,
   "metadata": {
    "_uuid": "7082fc6e8b3e2757ae49868945630cb490fb71d9",
    "scrolled": false
   },
   "outputs": [],
   "source": [
    "sns.boxplot(x=\"crispedricewafer\", y=\"winpercent\", data=winners).set_title('Relation of Wafer and Win Percent');"
   ]
  },
  {
   "cell_type": "markdown",
   "metadata": {
    "_uuid": "21f7d188eef19dc3aa02b0ad11332036d0b29930"
   },
   "source": [
    "### Inference:-\n",
    "From the above plot we can say that more than 60% of the population likes Wafer so it might be important parameter. "
   ]
  },
  {
   "cell_type": "code",
   "execution_count": null,
   "metadata": {
    "_uuid": "5faff3c2de181241c35dd3b5ac88f17c9e2955df",
    "scrolled": true
   },
   "outputs": [],
   "source": [
    "sns.boxplot(x=\"hard\", y=\"winpercent\", data=winners).set_title('Relation of Hardness of Candy and Win Percent');"
   ]
  },
  {
   "cell_type": "markdown",
   "metadata": {
    "_uuid": "d7cac1ffe8a3bd1daf02c891640ebb543b134317"
   },
   "source": [
    "### Inference:-\n",
    "From the above plot we can say that more than 60% of the population likes Soft Candies so it might be important parameter. "
   ]
  },
  {
   "cell_type": "code",
   "execution_count": null,
   "metadata": {
    "_uuid": "0317094a4c3f88eb1767ae2693efc496b0c35c0a",
    "scrolled": true
   },
   "outputs": [],
   "source": [
    "sns.boxplot(x=\"bar\", y=\"winpercent\", data=winners).set_title('Relation of Bar and Win Percent');"
   ]
  },
  {
   "cell_type": "markdown",
   "metadata": {
    "_uuid": "7d950589e0b918fca1a7d5f4458376e986d300ae"
   },
   "source": [
    "### Inference:-\n",
    "\n",
    "\n",
    "From the above plot we can say that more than 60% of the population likes Bar.\n",
    "\n",
    "But the confidence boundy is very less to reach out to a clear conlusion."
   ]
  },
  {
   "cell_type": "code",
   "execution_count": null,
   "metadata": {
    "_uuid": "35194729429fc57861ccdce02f9bdf8ada0ef93d",
    "scrolled": true
   },
   "outputs": [],
   "source": [
    "sns.boxplot(x=\"pluribus\", y=\"winpercent\", data=winners).set_title('Relation of Pluribus and Win Percent');"
   ]
  },
  {
   "cell_type": "markdown",
   "metadata": {
    "_uuid": "a50172d08119aca8e244491dd26794237d140f82"
   },
   "source": [
    "## Bivariate Analysis:-"
   ]
  },
  {
   "cell_type": "code",
   "execution_count": null,
   "metadata": {
    "_uuid": "2410edc8bc4afd12ebaa74d028b5640dc7ed8318",
    "scrolled": false
   },
   "outputs": [],
   "source": [
    "sns.jointplot(x=\"sugarpercent\", y=\"winpercent\", data=winners,kind=\"kde\",stat_func=spearmanr)"
   ]
  },
  {
   "cell_type": "markdown",
   "metadata": {
    "_uuid": "cf1dc53cbb2ad3b4165a7cab8ba5621df8f28e6b"
   },
   "source": [
    "### Linearity of Sugar and Win Percent:-\n",
    "\n",
    "\n",
    "The above plot proves the alternative hypothesis that sugar percentage is not linear to the popularity of the candy  i.e. **sugar content of candy doesn't contribute to the popularity of the candy.**"
   ]
  },
  {
   "cell_type": "code",
   "execution_count": null,
   "metadata": {
    "_uuid": "fde47cbc68fa9cb0bf7a2a0479ec56ebba4dfc5d"
   },
   "outputs": [],
   "source": [
    "sns.jointplot(x=\"pricepercent\", y=\"winpercent\", data=winners,kind=\"kde\",stat_func=spearmanr)"
   ]
  },
  {
   "cell_type": "markdown",
   "metadata": {
    "_uuid": "d8f86aabb7f60e43b43cc3d5178dbcecf6d6594c"
   },
   "source": [
    "### Linearity of Price and Win Percent\n",
    "The above plot proves the alternative hypothesis that price percentage is not linear to the popularity of the candy i.e. **cost of candy doesn't contribute to the popularity of the candy.**"
   ]
  },
  {
   "cell_type": "markdown",
   "metadata": {
    "_uuid": "2b6052d3f191902f14ba4174aed01b134015b24b"
   },
   "source": [
    "## Most Popular  and Least Popular Candies"
   ]
  },
  {
   "cell_type": "code",
   "execution_count": null,
   "metadata": {
    "_uuid": "3672d6f6276f13e5de048aca5cffb872d91c8802"
   },
   "outputs": [],
   "source": [
    "popularity = data[['competitorname','winpercent']].sort_values(by='winpercent')\n",
    "pd.concat([popularity.head(5),popularity.tail(5)],axis=0).plot(x='competitorname',y='winpercent',kind='barh',title='Popularity of various candies',sort_columns=True,figsize = (10,5),legend=False)"
   ]
  },
  {
   "cell_type": "markdown",
   "metadata": {
    "_uuid": "10bbb444108b967b2d7d38c139e0f49fc48f6c76"
   },
   "source": [
    "## Identifying the Components that make a Good Candy"
   ]
  },
  {
   "cell_type": "code",
   "execution_count": null,
   "metadata": {
    "_uuid": "fb85b052186a5841985a8a1bc9b7afde19760a3c"
   },
   "outputs": [],
   "source": [
    "association.plot(kind='barh',x='itemsets',y='support',title=f'Most Frequently Used Composition',sort_columns=True,figsize = (10,5),legend=False)"
   ]
  },
  {
   "cell_type": "markdown",
   "metadata": {
    "_uuid": "2a46006f059fd7b7fbdb96d59cba0a16de189668"
   },
   "source": [
    "## Feature Importance of Various Attributes:-"
   ]
  },
  {
   "cell_type": "code",
   "execution_count": null,
   "metadata": {
    "_uuid": "8171f6f4135d707f1ab417d9a1bd1674b8a249e4"
   },
   "outputs": [],
   "source": [
    "from sklearn import tree\n",
    "reg = tree.DecisionTreeRegressor(max_depth=3).fit(data[data.columns[1:-1]],data[data.columns[-1]])\n",
    "imp = pd.DataFrame.from_dict({'Name':data.columns[1:-1],'Importance':reg.feature_importances_})\n",
    "imp_plt = imp.sort_values(by='Importance',ascending=True).reset_index(drop=True)\n",
    "imp_plt[imp_plt.Importance>0].plot(kind='barh',x='Name',y='Importance',title='Feature Importance',sort_columns=True,figsize = (10,5),legend=False)"
   ]
  },
  {
   "cell_type": "markdown",
   "metadata": {
    "_uuid": "032aae4b118453fd137bc71c5775e2603893007e"
   },
   "source": [
    "* ## Out of Sample Evaluation Split:-"
   ]
  },
  {
   "cell_type": "code",
   "execution_count": null,
   "metadata": {
    "_uuid": "ff65b2cf5f0eba1e132ffd6a5d1be3530ce9e1f3"
   },
   "outputs": [],
   "source": [
    "from sklearn.model_selection import train_test_split\n",
    "from sklearn.metrics import mean_squared_error\n",
    "X_train, X_test, y_train, y_test = train_test_split(data[data.columns[1:-1]],data[data.columns[-1]], test_size=0.33, random_state=42)\n",
    "rmse_err = []"
   ]
  },
  {
   "cell_type": "markdown",
   "metadata": {
    "_uuid": "83499e56a053d29277c8227ab502264c4bc2dc15"
   },
   "source": [
    "## Model Training:-"
   ]
  },
  {
   "cell_type": "code",
   "execution_count": null,
   "metadata": {
    "_uuid": "e8ab7e08cf384638f7a969159ffb7f5e5c47a318"
   },
   "outputs": [],
   "source": [
    "from sklearn.tree import DecisionTreeRegressor\n",
    "reg = DecisionTreeRegressor(max_depth=5).fit(X_train,y_train)\n",
    "rmse_err.append(math.sqrt(mean_squared_error(y_test,reg.predict(X_test))))\n",
    "rmse_err[-1]"
   ]
  },
  {
   "cell_type": "code",
   "execution_count": null,
   "metadata": {
    "_uuid": "ed9e1b884099bedae339b6ff053523745438aed6"
   },
   "outputs": [],
   "source": [
    "from sklearn.ensemble import RandomForestRegressor\n",
    "rf_reg = RandomForestRegressor(n_estimators=200).fit(X_train,y_train)\n",
    "rmse_err.append(math.sqrt(mean_squared_error(y_test,rf_reg.predict(X_test))))\n",
    "rmse_err[-1]"
   ]
  },
  {
   "cell_type": "code",
   "execution_count": null,
   "metadata": {
    "_uuid": "88d5cbc44c04fba79a84545fec2b82d1c2815ec7"
   },
   "outputs": [],
   "source": [
    "from sklearn.linear_model import LinearRegression\n",
    "lr_reg = LinearRegression().fit(X_train,y_train)\n",
    "rmse_err.append(math.sqrt(mean_squared_error(y_test,lr_reg.predict(X_test))))\n",
    "rmse_err[-1]"
   ]
  },
  {
   "cell_type": "code",
   "execution_count": null,
   "metadata": {
    "_uuid": "d7d93085489dfd605745e2d9bb7423496cd8515c"
   },
   "outputs": [],
   "source": [
    "from sklearn.linear_model import SGDRegressor\n",
    "sgd_reg = SGDRegressor(max_iter=1000).fit(X_train,y_train)\n",
    "rmse_err.append(math.sqrt(mean_squared_error(y_test,sgd_reg.predict(X_test))))\n",
    "rmse_err[-1]"
   ]
  },
  {
   "cell_type": "code",
   "execution_count": null,
   "metadata": {
    "_uuid": "bf9b0bd19804bdcf2e7e017f21ed34b91e5d4ce0"
   },
   "outputs": [],
   "source": [
    "from sklearn.preprocessing import PolynomialFeatures\n",
    "from sklearn.linear_model import LinearRegression\n",
    "\n",
    "poly = PolynomialFeatures(degree=2)\n",
    "X_ = poly.fit_transform(X_train)\n",
    "X_test_ = poly.fit_transform(X_test)\n",
    "\n",
    "lg = LinearRegression().fit(X_, y_train)\n",
    "\n",
    "rmse_err.append(math.sqrt(mean_squared_error(y_test,lg.predict(X_test_))))\n",
    "rmse_err[-1]"
   ]
  },
  {
   "cell_type": "code",
   "execution_count": null,
   "metadata": {
    "_uuid": "2250d6f88da674c337bb9ccb5aef7a6eee4ce2c2"
   },
   "outputs": [],
   "source": [
    "from sklearn.linear_model import Ridge\n",
    "r_reg = Ridge(alpha = .5).fit(X_train,y_train)\n",
    "rmse_err.append(math.sqrt(mean_squared_error(y_test,r_reg.predict(X_test))))\n",
    "rmse_err[-1]"
   ]
  },
  {
   "cell_type": "code",
   "execution_count": null,
   "metadata": {
    "_uuid": "22fc007003ebda132147cd08969262ab0c2409b1"
   },
   "outputs": [],
   "source": [
    "from sklearn.linear_model import Lasso\n",
    "l_reg = Lasso(alpha = 0.1).fit(X_train,y_train)\n",
    "rmse_err.append(math.sqrt(mean_squared_error(y_test,l_reg.predict(X_test))))\n",
    "rmse_err[-1]"
   ]
  },
  {
   "cell_type": "code",
   "execution_count": null,
   "metadata": {
    "_uuid": "fd533edd779249f6c3e0d685cc0ed2a77465d1b3"
   },
   "outputs": [],
   "source": [
    "from sklearn.linear_model import LassoLars\n",
    "ll_reg = LassoLars(alpha = 0.1).fit(X_train,y_train)\n",
    "rmse_err.append(math.sqrt(mean_squared_error(y_test,ll_reg.predict(X_test))))\n",
    "rmse_err[-1]"
   ]
  },
  {
   "cell_type": "code",
   "execution_count": null,
   "metadata": {
    "_uuid": "b0f5dd74e60f5a6d05086bec78b5d8207f9d69ff"
   },
   "outputs": [],
   "source": [
    "from sklearn.linear_model import BayesianRidge\n",
    "b_reg = BayesianRidge().fit(X_train,y_train)\n",
    "rmse_err.append(math.sqrt(mean_squared_error(y_test,b_reg.predict(X_test))))\n",
    "rmse_err[-1]"
   ]
  },
  {
   "cell_type": "code",
   "execution_count": null,
   "metadata": {
    "_uuid": "815f4f4324167d8b15229caac784b2847b66a827"
   },
   "outputs": [],
   "source": [
    "from sklearn.linear_model import PassiveAggressiveRegressor\n",
    "par_reg = PassiveAggressiveRegressor(max_iter=1000, random_state=0).fit(X_train,y_train)\n",
    "rmse_err.append(math.sqrt(mean_squared_error(y_test,par_reg.predict(X_test))))\n",
    "rmse_err[-1]"
   ]
  },
  {
   "cell_type": "code",
   "execution_count": null,
   "metadata": {
    "_uuid": "1d84b37512707fc86b472f9aff09ee25edd1adee"
   },
   "outputs": [],
   "source": [
    "from sklearn.linear_model import ElasticNet\n",
    "en_reg = ElasticNet(max_iter=1000, random_state=0).fit(X_train,y_train)\n",
    "rmse_err.append(math.sqrt(mean_squared_error(y_test,en_reg.predict(X_test))))\n",
    "rmse_err[-1]"
   ]
  },
  {
   "cell_type": "code",
   "execution_count": null,
   "metadata": {
    "_uuid": "79a3da5a8d829a137d6ae244c06dc0e4c5cd0e1b"
   },
   "outputs": [],
   "source": [
    "models = ['Decision Tree','RandomForest','Linear','SGD','Polynomial','Ridge','Lasso','LassoLars','Bayesian Ridge','Passive Aggressive','ElasticNet']\n",
    "pd.DataFrame.from_dict({'Name':models,'RMSE':rmse_err}).sort_values(by='RMSE',ascending=False).plot(x='Name',y='RMSE',kind='barh',sort_columns=True,figsize = (10,5),legend=False,title='Performance of various Regression based algos')"
   ]
  }
 ],
 "metadata": {
  "kernelspec": {
   "display_name": "Python 3",
   "language": "python",
   "name": "python3"
  },
  "language_info": {
   "codemirror_mode": {
    "name": "ipython",
    "version": 3
   },
   "file_extension": ".py",
   "mimetype": "text/x-python",
   "name": "python",
   "nbconvert_exporter": "python",
   "pygments_lexer": "ipython3",
   "version": "3.6.5"
  }
 },
 "nbformat": 4,
 "nbformat_minor": 1
}
